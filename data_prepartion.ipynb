{
 "cells": [
  {
   "cell_type": "code",
   "execution_count": 119,
   "metadata": {},
   "outputs": [],
   "source": [
    "import pandas as pd\n",
    "import numpy as np\n",
    "import matplotlib.pyplot as plt\n",
    "import seaborn as sns\n",
    "import statsmodels.api as sm\n",
    "from sklearn.model_selection import train_test_split\n",
    "from sklearn.metrics import confusion_matrix, recall_score, precision_score"
   ]
  },
  {
   "cell_type": "code",
   "execution_count": 2,
   "metadata": {},
   "outputs": [],
   "source": [
    "inflation_df = pd.read_csv(\"potentialDataSetsHW2/us_inflation.csv\")\n",
    "interest_df = pd.read_csv(\"potentialDataSetsHW2/us_interest_rates.csv\")\n",
    "gdp_df = pd.read_csv(\"potentialDataSetsHW2/usa_gdp.csv\")\n",
    "\n",
    "inflation_df = inflation_df.dropna()\n",
    "# have an \"ave\" (average) row per year with NaN values, so we dropped it\n",
    "interest_df = interest_df.dropna()\n",
    "gdp_df = gdp_df.iloc[:,1:].dropna()\n",
    "\n",
    "gdp_df.head()\n",
    "gdp_df = gdp_df.rename(columns={\"date\":\"year\"})"
   ]
  },
  {
   "cell_type": "code",
   "execution_count": 63,
   "metadata": {},
   "outputs": [
    {
     "data": {
      "text/html": [
       "<div>\n",
       "<style scoped>\n",
       "    .dataframe tbody tr th:only-of-type {\n",
       "        vertical-align: middle;\n",
       "    }\n",
       "\n",
       "    .dataframe tbody tr th {\n",
       "        vertical-align: top;\n",
       "    }\n",
       "\n",
       "    .dataframe thead th {\n",
       "        text-align: right;\n",
       "    }\n",
       "</style>\n",
       "<table border=\"1\" class=\"dataframe\">\n",
       "  <thead>\n",
       "    <tr style=\"text-align: right;\">\n",
       "      <th></th>\n",
       "      <th>year</th>\n",
       "      <th>gdp</th>\n",
       "      <th>gdp_cap</th>\n",
       "    </tr>\n",
       "  </thead>\n",
       "  <tbody>\n",
       "    <tr>\n",
       "      <th>0</th>\n",
       "      <td>1960</td>\n",
       "      <td>5.419886e+11</td>\n",
       "      <td>2999.864872</td>\n",
       "    </tr>\n",
       "    <tr>\n",
       "      <th>1</th>\n",
       "      <td>1961</td>\n",
       "      <td>5.619403e+11</td>\n",
       "      <td>3059.160821</td>\n",
       "    </tr>\n",
       "    <tr>\n",
       "      <th>2</th>\n",
       "      <td>1962</td>\n",
       "      <td>6.036394e+11</td>\n",
       "      <td>3236.013112</td>\n",
       "    </tr>\n",
       "    <tr>\n",
       "      <th>3</th>\n",
       "      <td>1963</td>\n",
       "      <td>6.370586e+11</td>\n",
       "      <td>3366.369790</td>\n",
       "    </tr>\n",
       "    <tr>\n",
       "      <th>4</th>\n",
       "      <td>1964</td>\n",
       "      <td>6.841446e+11</td>\n",
       "      <td>3565.314430</td>\n",
       "    </tr>\n",
       "  </tbody>\n",
       "</table>\n",
       "</div>"
      ],
      "text/plain": [
       "   year           gdp      gdp_cap\n",
       "0  1960  5.419886e+11  2999.864872\n",
       "1  1961  5.619403e+11  3059.160821\n",
       "2  1962  6.036394e+11  3236.013112\n",
       "3  1963  6.370586e+11  3366.369790\n",
       "4  1964  6.841446e+11  3565.314430"
      ]
     },
     "execution_count": 63,
     "metadata": {},
     "output_type": "execute_result"
    }
   ],
   "source": [
    "gdp_df.head()"
   ]
  },
  {
   "cell_type": "code",
   "execution_count": 3,
   "metadata": {},
   "outputs": [
    {
     "data": {
      "text/html": [
       "<div>\n",
       "<style scoped>\n",
       "    .dataframe tbody tr th:only-of-type {\n",
       "        vertical-align: middle;\n",
       "    }\n",
       "\n",
       "    .dataframe tbody tr th {\n",
       "        vertical-align: top;\n",
       "    }\n",
       "\n",
       "    .dataframe thead th {\n",
       "        text-align: right;\n",
       "    }\n",
       "</style>\n",
       "<table border=\"1\" class=\"dataframe\">\n",
       "  <thead>\n",
       "    <tr style=\"text-align: right;\">\n",
       "      <th></th>\n",
       "      <th>year</th>\n",
       "      <th>months</th>\n",
       "      <th>month_num</th>\n",
       "      <th>inflat_rate</th>\n",
       "      <th>date</th>\n",
       "    </tr>\n",
       "  </thead>\n",
       "  <tbody>\n",
       "    <tr>\n",
       "      <th>0</th>\n",
       "      <td>1914</td>\n",
       "      <td>Jan</td>\n",
       "      <td>1</td>\n",
       "      <td>2.0</td>\n",
       "      <td>191401</td>\n",
       "    </tr>\n",
       "    <tr>\n",
       "      <th>1</th>\n",
       "      <td>1914</td>\n",
       "      <td>Feb</td>\n",
       "      <td>2</td>\n",
       "      <td>1.0</td>\n",
       "      <td>191402</td>\n",
       "    </tr>\n",
       "    <tr>\n",
       "      <th>2</th>\n",
       "      <td>1914</td>\n",
       "      <td>Mar</td>\n",
       "      <td>3</td>\n",
       "      <td>1.0</td>\n",
       "      <td>191403</td>\n",
       "    </tr>\n",
       "    <tr>\n",
       "      <th>3</th>\n",
       "      <td>1914</td>\n",
       "      <td>Apr</td>\n",
       "      <td>4</td>\n",
       "      <td>0.0</td>\n",
       "      <td>191404</td>\n",
       "    </tr>\n",
       "    <tr>\n",
       "      <th>4</th>\n",
       "      <td>1914</td>\n",
       "      <td>May</td>\n",
       "      <td>5</td>\n",
       "      <td>2.1</td>\n",
       "      <td>191405</td>\n",
       "    </tr>\n",
       "  </tbody>\n",
       "</table>\n",
       "</div>"
      ],
      "text/plain": [
       "   year months  month_num  inflat_rate    date\n",
       "0  1914    Jan          1          2.0  191401\n",
       "1  1914    Feb          2          1.0  191402\n",
       "2  1914    Mar          3          1.0  191403\n",
       "3  1914    Apr          4          0.0  191404\n",
       "4  1914    May          5          2.1  191405"
      ]
     },
     "execution_count": 3,
     "metadata": {},
     "output_type": "execute_result"
    }
   ],
   "source": [
    "inflation_df['month_num'] = inflation_df['month_num'].astype(int)\n",
    "inflation_df['date'] = inflation_df['year'].astype(str) + inflation_df['month_num'].apply(lambda x: f'{x:02d}')\n",
    "inflation_df['date'] = inflation_df['date'].astype(str)\n",
    "inflation_df.head()"
   ]
  },
  {
   "cell_type": "code",
   "execution_count": 4,
   "metadata": {},
   "outputs": [
    {
     "data": {
      "text/html": [
       "<div>\n",
       "<style scoped>\n",
       "    .dataframe tbody tr th:only-of-type {\n",
       "        vertical-align: middle;\n",
       "    }\n",
       "\n",
       "    .dataframe tbody tr th {\n",
       "        vertical-align: top;\n",
       "    }\n",
       "\n",
       "    .dataframe thead th {\n",
       "        text-align: right;\n",
       "    }\n",
       "</style>\n",
       "<table border=\"1\" class=\"dataframe\">\n",
       "  <thead>\n",
       "    <tr style=\"text-align: right;\">\n",
       "      <th></th>\n",
       "      <th>observation_date</th>\n",
       "      <th>months</th>\n",
       "      <th>month_num</th>\n",
       "      <th>interest_rate</th>\n",
       "      <th>date</th>\n",
       "    </tr>\n",
       "  </thead>\n",
       "  <tbody>\n",
       "    <tr>\n",
       "      <th>0</th>\n",
       "      <td>1954-07-01 00:00:00+00:00</td>\n",
       "      <td>Jul</td>\n",
       "      <td>7</td>\n",
       "      <td>0.80</td>\n",
       "      <td>195407</td>\n",
       "    </tr>\n",
       "    <tr>\n",
       "      <th>1</th>\n",
       "      <td>1954-08-01 00:00:00+00:00</td>\n",
       "      <td>Aug</td>\n",
       "      <td>8</td>\n",
       "      <td>1.22</td>\n",
       "      <td>195408</td>\n",
       "    </tr>\n",
       "    <tr>\n",
       "      <th>2</th>\n",
       "      <td>1954-09-01 00:00:00+00:00</td>\n",
       "      <td>Sep</td>\n",
       "      <td>9</td>\n",
       "      <td>1.07</td>\n",
       "      <td>195409</td>\n",
       "    </tr>\n",
       "    <tr>\n",
       "      <th>3</th>\n",
       "      <td>1954-10-01 00:00:00+00:00</td>\n",
       "      <td>Oct</td>\n",
       "      <td>10</td>\n",
       "      <td>0.85</td>\n",
       "      <td>195410</td>\n",
       "    </tr>\n",
       "    <tr>\n",
       "      <th>4</th>\n",
       "      <td>1954-11-01 00:00:00+00:00</td>\n",
       "      <td>Nov</td>\n",
       "      <td>11</td>\n",
       "      <td>0.83</td>\n",
       "      <td>195411</td>\n",
       "    </tr>\n",
       "  </tbody>\n",
       "</table>\n",
       "</div>"
      ],
      "text/plain": [
       "           observation_date months  month_num  interest_rate    date\n",
       "0 1954-07-01 00:00:00+00:00    Jul          7           0.80  195407\n",
       "1 1954-08-01 00:00:00+00:00    Aug          8           1.22  195408\n",
       "2 1954-09-01 00:00:00+00:00    Sep          9           1.07  195409\n",
       "3 1954-10-01 00:00:00+00:00    Oct         10           0.85  195410\n",
       "4 1954-11-01 00:00:00+00:00    Nov         11           0.83  195411"
      ]
     },
     "execution_count": 4,
     "metadata": {},
     "output_type": "execute_result"
    }
   ],
   "source": [
    "interest_df['observation_date'] = pd.to_datetime(interest_df['observation_date'])\n",
    "interest_df['date'] = interest_df['observation_date'].dt.strftime('%Y%m').astype(str)\n",
    "interest_df.head()"
   ]
  },
  {
   "cell_type": "code",
   "execution_count": 5,
   "metadata": {},
   "outputs": [
    {
     "data": {
      "text/html": [
       "<div>\n",
       "<style scoped>\n",
       "    .dataframe tbody tr th:only-of-type {\n",
       "        vertical-align: middle;\n",
       "    }\n",
       "\n",
       "    .dataframe tbody tr th {\n",
       "        vertical-align: top;\n",
       "    }\n",
       "\n",
       "    .dataframe thead th {\n",
       "        text-align: right;\n",
       "    }\n",
       "</style>\n",
       "<table border=\"1\" class=\"dataframe\">\n",
       "  <thead>\n",
       "    <tr style=\"text-align: right;\">\n",
       "      <th></th>\n",
       "      <th>userid</th>\n",
       "      <th>date</th>\n",
       "      <th>weight</th>\n",
       "      <th>N1_1</th>\n",
       "      <th>N1_2</th>\n",
       "      <th>N1_3</th>\n",
       "      <th>N1_4</th>\n",
       "      <th>N1_5</th>\n",
       "      <th>N1_6</th>\n",
       "      <th>N2_1</th>\n",
       "      <th>...</th>\n",
       "      <th>N10_2</th>\n",
       "      <th>N10_3</th>\n",
       "      <th>N10_4</th>\n",
       "      <th>N10_5</th>\n",
       "      <th>N10_7</th>\n",
       "      <th>N15</th>\n",
       "      <th>N16</th>\n",
       "      <th>N22</th>\n",
       "      <th>N23</th>\n",
       "      <th>N25</th>\n",
       "    </tr>\n",
       "  </thead>\n",
       "  <tbody>\n",
       "    <tr>\n",
       "      <th>0</th>\n",
       "      <td>70000337</td>\n",
       "      <td>201310</td>\n",
       "      <td>5.382000</td>\n",
       "      <td>0</td>\n",
       "      <td>0</td>\n",
       "      <td>1</td>\n",
       "      <td>0</td>\n",
       "      <td>0</td>\n",
       "      <td>0</td>\n",
       "      <td>NaN</td>\n",
       "      <td>...</td>\n",
       "      <td>NaN</td>\n",
       "      <td>NaN</td>\n",
       "      <td>NaN</td>\n",
       "      <td>NaN</td>\n",
       "      <td>NaN</td>\n",
       "      <td>1.0</td>\n",
       "      <td>NaN</td>\n",
       "      <td>NaN</td>\n",
       "      <td>NaN</td>\n",
       "      <td>NaN</td>\n",
       "    </tr>\n",
       "    <tr>\n",
       "      <th>1</th>\n",
       "      <td>70000341</td>\n",
       "      <td>201310</td>\n",
       "      <td>0.557000</td>\n",
       "      <td>1</td>\n",
       "      <td>1</td>\n",
       "      <td>1</td>\n",
       "      <td>0</td>\n",
       "      <td>1</td>\n",
       "      <td>0</td>\n",
       "      <td>20000.0</td>\n",
       "      <td>...</td>\n",
       "      <td>NaN</td>\n",
       "      <td>15000.0</td>\n",
       "      <td>NaN</td>\n",
       "      <td>NaN</td>\n",
       "      <td>NaN</td>\n",
       "      <td>0.0</td>\n",
       "      <td>NaN</td>\n",
       "      <td>NaN</td>\n",
       "      <td>NaN</td>\n",
       "      <td>NaN</td>\n",
       "    </tr>\n",
       "    <tr>\n",
       "      <th>2</th>\n",
       "      <td>70003202</td>\n",
       "      <td>201310</td>\n",
       "      <td>0.868000</td>\n",
       "      <td>0</td>\n",
       "      <td>1</td>\n",
       "      <td>0</td>\n",
       "      <td>0</td>\n",
       "      <td>0</td>\n",
       "      <td>0</td>\n",
       "      <td>NaN</td>\n",
       "      <td>...</td>\n",
       "      <td>NaN</td>\n",
       "      <td>NaN</td>\n",
       "      <td>NaN</td>\n",
       "      <td>NaN</td>\n",
       "      <td>NaN</td>\n",
       "      <td>0.0</td>\n",
       "      <td>NaN</td>\n",
       "      <td>NaN</td>\n",
       "      <td>NaN</td>\n",
       "      <td>NaN</td>\n",
       "    </tr>\n",
       "    <tr>\n",
       "      <th>3</th>\n",
       "      <td>70003205</td>\n",
       "      <td>201310</td>\n",
       "      <td>0.422000</td>\n",
       "      <td>1</td>\n",
       "      <td>1</td>\n",
       "      <td>0</td>\n",
       "      <td>0</td>\n",
       "      <td>0</td>\n",
       "      <td>0</td>\n",
       "      <td>70000.0</td>\n",
       "      <td>...</td>\n",
       "      <td>NaN</td>\n",
       "      <td>NaN</td>\n",
       "      <td>NaN</td>\n",
       "      <td>NaN</td>\n",
       "      <td>NaN</td>\n",
       "      <td>0.0</td>\n",
       "      <td>NaN</td>\n",
       "      <td>NaN</td>\n",
       "      <td>NaN</td>\n",
       "      <td>NaN</td>\n",
       "    </tr>\n",
       "    <tr>\n",
       "      <th>4</th>\n",
       "      <td>70003238</td>\n",
       "      <td>201310</td>\n",
       "      <td>0.638000</td>\n",
       "      <td>0</td>\n",
       "      <td>1</td>\n",
       "      <td>0</td>\n",
       "      <td>0</td>\n",
       "      <td>0</td>\n",
       "      <td>0</td>\n",
       "      <td>NaN</td>\n",
       "      <td>...</td>\n",
       "      <td>NaN</td>\n",
       "      <td>NaN</td>\n",
       "      <td>NaN</td>\n",
       "      <td>NaN</td>\n",
       "      <td>NaN</td>\n",
       "      <td>0.0</td>\n",
       "      <td>NaN</td>\n",
       "      <td>NaN</td>\n",
       "      <td>NaN</td>\n",
       "      <td>NaN</td>\n",
       "    </tr>\n",
       "    <tr>\n",
       "      <th>...</th>\n",
       "      <td>...</td>\n",
       "      <td>...</td>\n",
       "      <td>...</td>\n",
       "      <td>...</td>\n",
       "      <td>...</td>\n",
       "      <td>...</td>\n",
       "      <td>...</td>\n",
       "      <td>...</td>\n",
       "      <td>...</td>\n",
       "      <td>...</td>\n",
       "      <td>...</td>\n",
       "      <td>...</td>\n",
       "      <td>...</td>\n",
       "      <td>...</td>\n",
       "      <td>...</td>\n",
       "      <td>...</td>\n",
       "      <td>...</td>\n",
       "      <td>...</td>\n",
       "      <td>...</td>\n",
       "      <td>...</td>\n",
       "      <td>...</td>\n",
       "    </tr>\n",
       "    <tr>\n",
       "      <th>34357</th>\n",
       "      <td>75017565</td>\n",
       "      <td>202402</td>\n",
       "      <td>0.741707</td>\n",
       "      <td>1</td>\n",
       "      <td>1</td>\n",
       "      <td>1</td>\n",
       "      <td>1</td>\n",
       "      <td>1</td>\n",
       "      <td>0</td>\n",
       "      <td>250.0</td>\n",
       "      <td>...</td>\n",
       "      <td>NaN</td>\n",
       "      <td>NaN</td>\n",
       "      <td>NaN</td>\n",
       "      <td>NaN</td>\n",
       "      <td>NaN</td>\n",
       "      <td>0.0</td>\n",
       "      <td>NaN</td>\n",
       "      <td>4.0</td>\n",
       "      <td>4.0</td>\n",
       "      <td>93.0</td>\n",
       "    </tr>\n",
       "    <tr>\n",
       "      <th>34358</th>\n",
       "      <td>75017580</td>\n",
       "      <td>202402</td>\n",
       "      <td>1.262060</td>\n",
       "      <td>1</td>\n",
       "      <td>1</td>\n",
       "      <td>0</td>\n",
       "      <td>0</td>\n",
       "      <td>0</td>\n",
       "      <td>0</td>\n",
       "      <td>8000.0</td>\n",
       "      <td>...</td>\n",
       "      <td>NaN</td>\n",
       "      <td>NaN</td>\n",
       "      <td>NaN</td>\n",
       "      <td>NaN</td>\n",
       "      <td>NaN</td>\n",
       "      <td>0.0</td>\n",
       "      <td>NaN</td>\n",
       "      <td>5.0</td>\n",
       "      <td>1.0</td>\n",
       "      <td>100.0</td>\n",
       "    </tr>\n",
       "    <tr>\n",
       "      <th>34359</th>\n",
       "      <td>75017584</td>\n",
       "      <td>202402</td>\n",
       "      <td>1.467306</td>\n",
       "      <td>1</td>\n",
       "      <td>0</td>\n",
       "      <td>1</td>\n",
       "      <td>0</td>\n",
       "      <td>1</td>\n",
       "      <td>0</td>\n",
       "      <td>10000.0</td>\n",
       "      <td>...</td>\n",
       "      <td>NaN</td>\n",
       "      <td>NaN</td>\n",
       "      <td>NaN</td>\n",
       "      <td>NaN</td>\n",
       "      <td>NaN</td>\n",
       "      <td>0.0</td>\n",
       "      <td>NaN</td>\n",
       "      <td>1.0</td>\n",
       "      <td>1.0</td>\n",
       "      <td>0.0</td>\n",
       "    </tr>\n",
       "    <tr>\n",
       "      <th>34360</th>\n",
       "      <td>75017586</td>\n",
       "      <td>202402</td>\n",
       "      <td>0.545003</td>\n",
       "      <td>1</td>\n",
       "      <td>1</td>\n",
       "      <td>1</td>\n",
       "      <td>0</td>\n",
       "      <td>0</td>\n",
       "      <td>0</td>\n",
       "      <td>19000.0</td>\n",
       "      <td>...</td>\n",
       "      <td>NaN</td>\n",
       "      <td>NaN</td>\n",
       "      <td>NaN</td>\n",
       "      <td>NaN</td>\n",
       "      <td>NaN</td>\n",
       "      <td>0.0</td>\n",
       "      <td>NaN</td>\n",
       "      <td>2.0</td>\n",
       "      <td>5.0</td>\n",
       "      <td>100.0</td>\n",
       "    </tr>\n",
       "    <tr>\n",
       "      <th>34361</th>\n",
       "      <td>75017613</td>\n",
       "      <td>202402</td>\n",
       "      <td>0.382379</td>\n",
       "      <td>0</td>\n",
       "      <td>1</td>\n",
       "      <td>1</td>\n",
       "      <td>0</td>\n",
       "      <td>1</td>\n",
       "      <td>0</td>\n",
       "      <td>NaN</td>\n",
       "      <td>...</td>\n",
       "      <td>NaN</td>\n",
       "      <td>NaN</td>\n",
       "      <td>NaN</td>\n",
       "      <td>NaN</td>\n",
       "      <td>NaN</td>\n",
       "      <td>0.0</td>\n",
       "      <td>NaN</td>\n",
       "      <td>5.0</td>\n",
       "      <td>1.0</td>\n",
       "      <td>99.0</td>\n",
       "    </tr>\n",
       "  </tbody>\n",
       "</table>\n",
       "<p>34362 rows × 30 columns</p>\n",
       "</div>"
      ],
      "text/plain": [
       "         userid    date    weight  N1_1  N1_2  N1_3  N1_4  N1_5  N1_6  \\\n",
       "0      70000337  201310  5.382000     0     0     1     0     0     0   \n",
       "1      70000341  201310  0.557000     1     1     1     0     1     0   \n",
       "2      70003202  201310  0.868000     0     1     0     0     0     0   \n",
       "3      70003205  201310  0.422000     1     1     0     0     0     0   \n",
       "4      70003238  201310  0.638000     0     1     0     0     0     0   \n",
       "...         ...     ...       ...   ...   ...   ...   ...   ...   ...   \n",
       "34357  75017565  202402  0.741707     1     1     1     1     1     0   \n",
       "34358  75017580  202402  1.262060     1     1     0     0     0     0   \n",
       "34359  75017584  202402  1.467306     1     0     1     0     1     0   \n",
       "34360  75017586  202402  0.545003     1     1     1     0     0     0   \n",
       "34361  75017613  202402  0.382379     0     1     1     0     1     0   \n",
       "\n",
       "          N2_1  ...  N10_2    N10_3  N10_4  N10_5  N10_7  N15  N16  N22  N23  \\\n",
       "0          NaN  ...    NaN      NaN    NaN    NaN    NaN  1.0  NaN  NaN  NaN   \n",
       "1      20000.0  ...    NaN  15000.0    NaN    NaN    NaN  0.0  NaN  NaN  NaN   \n",
       "2          NaN  ...    NaN      NaN    NaN    NaN    NaN  0.0  NaN  NaN  NaN   \n",
       "3      70000.0  ...    NaN      NaN    NaN    NaN    NaN  0.0  NaN  NaN  NaN   \n",
       "4          NaN  ...    NaN      NaN    NaN    NaN    NaN  0.0  NaN  NaN  NaN   \n",
       "...        ...  ...    ...      ...    ...    ...    ...  ...  ...  ...  ...   \n",
       "34357    250.0  ...    NaN      NaN    NaN    NaN    NaN  0.0  NaN  4.0  4.0   \n",
       "34358   8000.0  ...    NaN      NaN    NaN    NaN    NaN  0.0  NaN  5.0  1.0   \n",
       "34359  10000.0  ...    NaN      NaN    NaN    NaN    NaN  0.0  NaN  1.0  1.0   \n",
       "34360  19000.0  ...    NaN      NaN    NaN    NaN    NaN  0.0  NaN  2.0  5.0   \n",
       "34361      NaN  ...    NaN      NaN    NaN    NaN    NaN  0.0  NaN  5.0  1.0   \n",
       "\n",
       "         N25  \n",
       "0        NaN  \n",
       "1        NaN  \n",
       "2        NaN  \n",
       "3        NaN  \n",
       "4        NaN  \n",
       "...      ...  \n",
       "34357   93.0  \n",
       "34358  100.0  \n",
       "34359    0.0  \n",
       "34360  100.0  \n",
       "34361   99.0  \n",
       "\n",
       "[34362 rows x 30 columns]"
      ]
     },
     "execution_count": 5,
     "metadata": {},
     "output_type": "execute_result"
    }
   ],
   "source": [
    "credit_df = pd.read_excel(\"potentialDataSetsHW2/sce_credit.xlsx\", sheet_name=\"Data\")\n",
    "reduced_credit_df = credit_df[[\"userid\", \"date\", \"weight\", \n",
    "                               \"N1_1\", \"N1_2\", \"N1_3\", \n",
    "                               \"N1_4\",\"N1_5\",\"N1_6\",\n",
    "                               \"N2_1\",\"N2_2\", \"N2_3\",\n",
    "                               \"N2_4\", \"N2_5\", \"N2_6\",\n",
    "                               \"N3\", \"N4_4\", \"N4_5\", \"N4_6\",\n",
    "                               \"N10_1\", \"N10_2\", \"N10_3\",\n",
    "                               \"N10_4\", \"N10_5\", \"N10_7\",\n",
    "                               \"N15\", \"N16\",\n",
    "                               \"N22\", \"N23\", \"N25\"]]\n",
    "reduced_credit_df\n"
   ]
  },
  {
   "cell_type": "code",
   "execution_count": 6,
   "metadata": {},
   "outputs": [
    {
     "name": "stderr",
     "output_type": "stream",
     "text": [
      "/var/folders/zg/ls8bd3c56117c99w5bccvcjw0000gn/T/ipykernel_17484/1854363984.py:1: SettingWithCopyWarning: \n",
      "A value is trying to be set on a copy of a slice from a DataFrame.\n",
      "Try using .loc[row_indexer,col_indexer] = value instead\n",
      "\n",
      "See the caveats in the documentation: https://pandas.pydata.org/pandas-docs/stable/user_guide/indexing.html#returning-a-view-versus-a-copy\n",
      "  reduced_credit_df['date'] = reduced_credit_df['date'].astype(str)\n",
      "/var/folders/zg/ls8bd3c56117c99w5bccvcjw0000gn/T/ipykernel_17484/1854363984.py:3: SettingWithCopyWarning: \n",
      "A value is trying to be set on a copy of a slice from a DataFrame.\n",
      "Try using .loc[row_indexer,col_indexer] = value instead\n",
      "\n",
      "See the caveats in the documentation: https://pandas.pydata.org/pandas-docs/stable/user_guide/indexing.html#returning-a-view-versus-a-copy\n",
      "  reduced_credit_df['year'] = reduced_credit_df['date'].astype(str).str[:4]\n"
     ]
    }
   ],
   "source": [
    "reduced_credit_df['date'] = reduced_credit_df['date'].astype(str)\n",
    "gdp_df['year'] = gdp_df['year'].astype(str)\n",
    "reduced_credit_df['year'] = reduced_credit_df['date'].astype(str).str[:4]"
   ]
  },
  {
   "cell_type": "code",
   "execution_count": 7,
   "metadata": {},
   "outputs": [
    {
     "data": {
      "text/plain": [
       "userid      int64\n",
       "date       object\n",
       "weight    float64\n",
       "N1_1        int64\n",
       "N1_2        int64\n",
       "N1_3        int64\n",
       "N1_4        int64\n",
       "N1_5        int64\n",
       "N1_6        int64\n",
       "N2_1      float64\n",
       "N2_2      float64\n",
       "N2_3      float64\n",
       "N2_4      float64\n",
       "N2_5      float64\n",
       "N2_6      float64\n",
       "N3        float64\n",
       "N4_4      float64\n",
       "N4_5      float64\n",
       "N4_6      float64\n",
       "N10_1     float64\n",
       "N10_2     float64\n",
       "N10_3     float64\n",
       "N10_4     float64\n",
       "N10_5     float64\n",
       "N10_7     float64\n",
       "N15       float64\n",
       "N16       float64\n",
       "N22       float64\n",
       "N23       float64\n",
       "N25       float64\n",
       "year       object\n",
       "dtype: object"
      ]
     },
     "execution_count": 7,
     "metadata": {},
     "output_type": "execute_result"
    }
   ],
   "source": [
    "reduced_credit_df.dtypes"
   ]
  },
  {
   "cell_type": "code",
   "execution_count": 14,
   "metadata": {},
   "outputs": [
    {
     "data": {
      "text/html": [
       "<div>\n",
       "<style scoped>\n",
       "    .dataframe tbody tr th:only-of-type {\n",
       "        vertical-align: middle;\n",
       "    }\n",
       "\n",
       "    .dataframe tbody tr th {\n",
       "        vertical-align: top;\n",
       "    }\n",
       "\n",
       "    .dataframe thead th {\n",
       "        text-align: right;\n",
       "    }\n",
       "</style>\n",
       "<table border=\"1\" class=\"dataframe\">\n",
       "  <thead>\n",
       "    <tr style=\"text-align: right;\">\n",
       "      <th></th>\n",
       "      <th>userid</th>\n",
       "      <th>date</th>\n",
       "      <th>weight</th>\n",
       "      <th>N1_1</th>\n",
       "      <th>N1_2</th>\n",
       "      <th>N1_3</th>\n",
       "      <th>N1_4</th>\n",
       "      <th>N1_5</th>\n",
       "      <th>N1_6</th>\n",
       "      <th>N2_1</th>\n",
       "      <th>...</th>\n",
       "      <th>N15</th>\n",
       "      <th>N16</th>\n",
       "      <th>N22</th>\n",
       "      <th>N23</th>\n",
       "      <th>N25</th>\n",
       "      <th>year</th>\n",
       "      <th>inflat_rate</th>\n",
       "      <th>interest_rate</th>\n",
       "      <th>gdp</th>\n",
       "      <th>gdp_cap</th>\n",
       "    </tr>\n",
       "  </thead>\n",
       "  <tbody>\n",
       "    <tr>\n",
       "      <th>0</th>\n",
       "      <td>70000337</td>\n",
       "      <td>201310</td>\n",
       "      <td>5.382</td>\n",
       "      <td>0</td>\n",
       "      <td>0</td>\n",
       "      <td>1</td>\n",
       "      <td>0</td>\n",
       "      <td>0</td>\n",
       "      <td>0</td>\n",
       "      <td>NaN</td>\n",
       "      <td>...</td>\n",
       "      <td>1.0</td>\n",
       "      <td>NaN</td>\n",
       "      <td>NaN</td>\n",
       "      <td>NaN</td>\n",
       "      <td>NaN</td>\n",
       "      <td>2013</td>\n",
       "      <td>1.0</td>\n",
       "      <td>0.09</td>\n",
       "      <td>1.688068e+13</td>\n",
       "      <td>53409.750777</td>\n",
       "    </tr>\n",
       "    <tr>\n",
       "      <th>1</th>\n",
       "      <td>70000341</td>\n",
       "      <td>201310</td>\n",
       "      <td>0.557</td>\n",
       "      <td>1</td>\n",
       "      <td>1</td>\n",
       "      <td>1</td>\n",
       "      <td>0</td>\n",
       "      <td>1</td>\n",
       "      <td>0</td>\n",
       "      <td>20000.0</td>\n",
       "      <td>...</td>\n",
       "      <td>0.0</td>\n",
       "      <td>NaN</td>\n",
       "      <td>NaN</td>\n",
       "      <td>NaN</td>\n",
       "      <td>NaN</td>\n",
       "      <td>2013</td>\n",
       "      <td>1.0</td>\n",
       "      <td>0.09</td>\n",
       "      <td>1.688068e+13</td>\n",
       "      <td>53409.750777</td>\n",
       "    </tr>\n",
       "    <tr>\n",
       "      <th>2</th>\n",
       "      <td>70003202</td>\n",
       "      <td>201310</td>\n",
       "      <td>0.868</td>\n",
       "      <td>0</td>\n",
       "      <td>1</td>\n",
       "      <td>0</td>\n",
       "      <td>0</td>\n",
       "      <td>0</td>\n",
       "      <td>0</td>\n",
       "      <td>NaN</td>\n",
       "      <td>...</td>\n",
       "      <td>0.0</td>\n",
       "      <td>NaN</td>\n",
       "      <td>NaN</td>\n",
       "      <td>NaN</td>\n",
       "      <td>NaN</td>\n",
       "      <td>2013</td>\n",
       "      <td>1.0</td>\n",
       "      <td>0.09</td>\n",
       "      <td>1.688068e+13</td>\n",
       "      <td>53409.750777</td>\n",
       "    </tr>\n",
       "    <tr>\n",
       "      <th>3</th>\n",
       "      <td>70003205</td>\n",
       "      <td>201310</td>\n",
       "      <td>0.422</td>\n",
       "      <td>1</td>\n",
       "      <td>1</td>\n",
       "      <td>0</td>\n",
       "      <td>0</td>\n",
       "      <td>0</td>\n",
       "      <td>0</td>\n",
       "      <td>70000.0</td>\n",
       "      <td>...</td>\n",
       "      <td>0.0</td>\n",
       "      <td>NaN</td>\n",
       "      <td>NaN</td>\n",
       "      <td>NaN</td>\n",
       "      <td>NaN</td>\n",
       "      <td>2013</td>\n",
       "      <td>1.0</td>\n",
       "      <td>0.09</td>\n",
       "      <td>1.688068e+13</td>\n",
       "      <td>53409.750777</td>\n",
       "    </tr>\n",
       "    <tr>\n",
       "      <th>4</th>\n",
       "      <td>70003238</td>\n",
       "      <td>201310</td>\n",
       "      <td>0.638</td>\n",
       "      <td>0</td>\n",
       "      <td>1</td>\n",
       "      <td>0</td>\n",
       "      <td>0</td>\n",
       "      <td>0</td>\n",
       "      <td>0</td>\n",
       "      <td>NaN</td>\n",
       "      <td>...</td>\n",
       "      <td>0.0</td>\n",
       "      <td>NaN</td>\n",
       "      <td>NaN</td>\n",
       "      <td>NaN</td>\n",
       "      <td>NaN</td>\n",
       "      <td>2013</td>\n",
       "      <td>1.0</td>\n",
       "      <td>0.09</td>\n",
       "      <td>1.688068e+13</td>\n",
       "      <td>53409.750777</td>\n",
       "    </tr>\n",
       "  </tbody>\n",
       "</table>\n",
       "<p>5 rows × 35 columns</p>\n",
       "</div>"
      ],
      "text/plain": [
       "     userid    date  weight  N1_1  N1_2  N1_3  N1_4  N1_5  N1_6     N2_1  ...  \\\n",
       "0  70000337  201310   5.382     0     0     1     0     0     0      NaN  ...   \n",
       "1  70000341  201310   0.557     1     1     1     0     1     0  20000.0  ...   \n",
       "2  70003202  201310   0.868     0     1     0     0     0     0      NaN  ...   \n",
       "3  70003205  201310   0.422     1     1     0     0     0     0  70000.0  ...   \n",
       "4  70003238  201310   0.638     0     1     0     0     0     0      NaN  ...   \n",
       "\n",
       "   N15  N16  N22  N23  N25  year  inflat_rate  interest_rate           gdp  \\\n",
       "0  1.0  NaN  NaN  NaN  NaN  2013          1.0           0.09  1.688068e+13   \n",
       "1  0.0  NaN  NaN  NaN  NaN  2013          1.0           0.09  1.688068e+13   \n",
       "2  0.0  NaN  NaN  NaN  NaN  2013          1.0           0.09  1.688068e+13   \n",
       "3  0.0  NaN  NaN  NaN  NaN  2013          1.0           0.09  1.688068e+13   \n",
       "4  0.0  NaN  NaN  NaN  NaN  2013          1.0           0.09  1.688068e+13   \n",
       "\n",
       "        gdp_cap  \n",
       "0  53409.750777  \n",
       "1  53409.750777  \n",
       "2  53409.750777  \n",
       "3  53409.750777  \n",
       "4  53409.750777  \n",
       "\n",
       "[5 rows x 35 columns]"
      ]
     },
     "execution_count": 14,
     "metadata": {},
     "output_type": "execute_result"
    }
   ],
   "source": [
    "df_merged = reduced_credit_df.merge(inflation_df[['date', 'inflat_rate']], on='date', how='left')\n",
    "df_merged = df_merged.merge(interest_df[['date', 'interest_rate']], on='date', how='left')\n",
    "df_final = df_merged.merge(gdp_df, on='year', how='left')\n",
    "df_final.head()"
   ]
  },
  {
   "cell_type": "code",
   "execution_count": 15,
   "metadata": {},
   "outputs": [],
   "source": [
    "# if don't own a type of loan, their balance would be NaN, filling in with 0\n",
    "df_final.loc[df_final['N1_1'] == 0, 'N2_1'] = 0\n",
    "df_final.loc[df_final['N1_2'] == 0, 'N2_2'] = 0\n",
    "df_final.loc[df_final['N1_3'] == 0, 'N2_3'] = 0\n",
    "df_final.loc[df_final['N1_4'] == 0, 'N2_4'] = 0\n",
    "df_final.loc[df_final['N1_5'] == 0, 'N2_5'] = 0\n",
    "df_final.loc[df_final['N1_6'] == 0, 'N2_6'] = 0\n",
    "# if not late by 30 days then not 90 days late\n",
    "df_final.loc[df_final['N15'] == 0, 'N16'] = 0"
   ]
  },
  {
   "cell_type": "markdown",
   "metadata": {},
   "source": [
    "May need to omit amount lended by loaner and request to increase loan"
   ]
  },
  {
   "cell_type": "code",
   "execution_count": 16,
   "metadata": {},
   "outputs": [
    {
     "data": {
      "text/plain": [
       "userid              0\n",
       "date                0\n",
       "weight              2\n",
       "N1_1                0\n",
       "N1_2                0\n",
       "N1_3                0\n",
       "N1_4                0\n",
       "N1_5                0\n",
       "N1_6                0\n",
       "N2_1              910\n",
       "N2_2              632\n",
       "N2_3              269\n",
       "N2_4              110\n",
       "N2_5              503\n",
       "N2_6              171\n",
       "N3               8667\n",
       "N15              3099\n",
       "N16              3200\n",
       "N22              1449\n",
       "N23              2495\n",
       "N25              7026\n",
       "year                0\n",
       "inflat_rate         0\n",
       "interest_rate       0\n",
       "gdp               980\n",
       "gdp_cap           980\n",
       "dtype: int64"
      ]
     },
     "execution_count": 16,
     "metadata": {},
     "output_type": "execute_result"
    }
   ],
   "source": [
    "df_final = df_final.drop(columns=[\"N4_4\", \"N4_5\", \"N4_6\",\n",
    "                               \"N10_1\", \"N10_2\", \"N10_3\",\n",
    "                               \"N10_4\", \"N10_5\", \"N10_7\"])\n",
    "df_final.isna().sum()"
   ]
  },
  {
   "cell_type": "code",
   "execution_count": 17,
   "metadata": {},
   "outputs": [
    {
     "name": "stdout",
     "output_type": "stream",
     "text": [
      "Shape before cleaning (34362, 26)\n",
      "Shape after cleaning (18797, 26)\n"
     ]
    }
   ],
   "source": [
    "print (f\"\"\"Shape before cleaning {df_final.shape}\"\"\")\n",
    "df_final_cleaned = df_final.dropna()\n",
    "print (f\"\"\"Shape after cleaning {df_final_cleaned.shape}\"\"\")"
   ]
  },
  {
   "cell_type": "code",
   "execution_count": 79,
   "metadata": {},
   "outputs": [
    {
     "data": {
      "text/plain": [
       "array(['201510', '201602', '201606', '201610', '201702', '201706',\n",
       "       '201710', '201802', '201806', '201810', '201902', '201906',\n",
       "       '201910', '202006', '202010', '202102', '202106', '202110',\n",
       "       '202202', '202210', '202302', '202306', '202310'], dtype=object)"
      ]
     },
     "execution_count": 79,
     "metadata": {},
     "output_type": "execute_result"
    }
   ],
   "source": [
    "df_final_cleaned[\"date\"].unique()"
   ]
  },
  {
   "cell_type": "code",
   "execution_count": 20,
   "metadata": {},
   "outputs": [
    {
     "name": "stderr",
     "output_type": "stream",
     "text": [
      "/var/folders/zg/ls8bd3c56117c99w5bccvcjw0000gn/T/ipykernel_17484/2633406663.py:1: SettingWithCopyWarning: \n",
      "A value is trying to be set on a copy of a slice from a DataFrame\n",
      "\n",
      "See the caveats in the documentation: https://pandas.pydata.org/pandas-docs/stable/user_guide/indexing.html#returning-a-view-versus-a-copy\n",
      "  df_final_cleaned.rename(columns={\"N1_1\":\"HaveCredit\", \"N1_2\":\"HaveMortgage\",\n"
     ]
    }
   ],
   "source": [
    "df_final_cleaned.rename(columns={\"N1_1\":\"HaveCredit\", \"N1_2\":\"HaveMortgage\",\n",
    "                                 \"N1_3\":\"HaveStudent\", \"N1_4\":\"HaveHomeBasedLoan\",\n",
    "                                 \"N1_5\":\"HaveAuto\", \"N1_6\":\"Other\", \"N1_7\":\"None\",\n",
    "                                 \"N2_1\":\"CreditBal\", \"N2_2\":\"MortgageBal\",\n",
    "                                 \"N2_3\":\"StudentBal\", \"N2_4\":\"HomeBasedBal\",\n",
    "                                 \"N2_5\":\"AutoBal\", \"N2_6\":\"OtherBal\",\n",
    "                                 \"N3\":\"MaxedCredit\",\n",
    "                                 \"N15\":\"Late30Days\", \"N16\":\"Late90Days\",\n",
    "                                 \"N22\":\"CreditScore\", \"N23\":\"LastCheckCredit\",\n",
    "                                 \"N25\":\"LikAble2k\"}, inplace=True)"
   ]
  },
  {
   "cell_type": "code",
   "execution_count": 61,
   "metadata": {},
   "outputs": [
    {
     "data": {
      "text/html": [
       "<div>\n",
       "<style scoped>\n",
       "    .dataframe tbody tr th:only-of-type {\n",
       "        vertical-align: middle;\n",
       "    }\n",
       "\n",
       "    .dataframe tbody tr th {\n",
       "        vertical-align: top;\n",
       "    }\n",
       "\n",
       "    .dataframe thead th {\n",
       "        text-align: right;\n",
       "    }\n",
       "</style>\n",
       "<table border=\"1\" class=\"dataframe\">\n",
       "  <thead>\n",
       "    <tr style=\"text-align: right;\">\n",
       "      <th></th>\n",
       "      <th>userid</th>\n",
       "      <th>date</th>\n",
       "      <th>weight</th>\n",
       "      <th>HaveCredit</th>\n",
       "      <th>HaveMortgage</th>\n",
       "      <th>HaveStudent</th>\n",
       "      <th>HaveHomeBasedLoan</th>\n",
       "      <th>HaveAuto</th>\n",
       "      <th>Other</th>\n",
       "      <th>CreditBal</th>\n",
       "      <th>...</th>\n",
       "      <th>CreditScore</th>\n",
       "      <th>LastCheckCredit</th>\n",
       "      <th>LikAble2k</th>\n",
       "      <th>year</th>\n",
       "      <th>inflat_rate</th>\n",
       "      <th>interest_rate</th>\n",
       "      <th>gdp</th>\n",
       "      <th>gdp_cap</th>\n",
       "      <th>loan_count</th>\n",
       "      <th>loan_count(w/outCredit)</th>\n",
       "    </tr>\n",
       "  </thead>\n",
       "  <tbody>\n",
       "    <tr>\n",
       "      <th>7004</th>\n",
       "      <td>70051996</td>\n",
       "      <td>201510</td>\n",
       "      <td>1.048</td>\n",
       "      <td>1</td>\n",
       "      <td>0</td>\n",
       "      <td>0</td>\n",
       "      <td>0</td>\n",
       "      <td>0</td>\n",
       "      <td>0</td>\n",
       "      <td>0.0</td>\n",
       "      <td>...</td>\n",
       "      <td>4.0</td>\n",
       "      <td>5.0</td>\n",
       "      <td>100.0</td>\n",
       "      <td>2015</td>\n",
       "      <td>0.2</td>\n",
       "      <td>0.12</td>\n",
       "      <td>1.829502e+13</td>\n",
       "      <td>57040.208214</td>\n",
       "      <td>1</td>\n",
       "      <td>0</td>\n",
       "    </tr>\n",
       "    <tr>\n",
       "      <th>7005</th>\n",
       "      <td>70052003</td>\n",
       "      <td>201510</td>\n",
       "      <td>0.491</td>\n",
       "      <td>1</td>\n",
       "      <td>1</td>\n",
       "      <td>1</td>\n",
       "      <td>0</td>\n",
       "      <td>1</td>\n",
       "      <td>0</td>\n",
       "      <td>2000.0</td>\n",
       "      <td>...</td>\n",
       "      <td>5.0</td>\n",
       "      <td>4.0</td>\n",
       "      <td>100.0</td>\n",
       "      <td>2015</td>\n",
       "      <td>0.2</td>\n",
       "      <td>0.12</td>\n",
       "      <td>1.829502e+13</td>\n",
       "      <td>57040.208214</td>\n",
       "      <td>4</td>\n",
       "      <td>3</td>\n",
       "    </tr>\n",
       "    <tr>\n",
       "      <th>7006</th>\n",
       "      <td>70052014</td>\n",
       "      <td>201510</td>\n",
       "      <td>0.577</td>\n",
       "      <td>1</td>\n",
       "      <td>0</td>\n",
       "      <td>0</td>\n",
       "      <td>1</td>\n",
       "      <td>0</td>\n",
       "      <td>0</td>\n",
       "      <td>0.0</td>\n",
       "      <td>...</td>\n",
       "      <td>4.0</td>\n",
       "      <td>5.0</td>\n",
       "      <td>100.0</td>\n",
       "      <td>2015</td>\n",
       "      <td>0.2</td>\n",
       "      <td>0.12</td>\n",
       "      <td>1.829502e+13</td>\n",
       "      <td>57040.208214</td>\n",
       "      <td>2</td>\n",
       "      <td>1</td>\n",
       "    </tr>\n",
       "    <tr>\n",
       "      <th>7008</th>\n",
       "      <td>70052043</td>\n",
       "      <td>201510</td>\n",
       "      <td>1.087</td>\n",
       "      <td>1</td>\n",
       "      <td>0</td>\n",
       "      <td>1</td>\n",
       "      <td>0</td>\n",
       "      <td>1</td>\n",
       "      <td>0</td>\n",
       "      <td>311.0</td>\n",
       "      <td>...</td>\n",
       "      <td>1.0</td>\n",
       "      <td>3.0</td>\n",
       "      <td>10.0</td>\n",
       "      <td>2015</td>\n",
       "      <td>0.2</td>\n",
       "      <td>0.12</td>\n",
       "      <td>1.829502e+13</td>\n",
       "      <td>57040.208214</td>\n",
       "      <td>3</td>\n",
       "      <td>2</td>\n",
       "    </tr>\n",
       "    <tr>\n",
       "      <th>7010</th>\n",
       "      <td>70052292</td>\n",
       "      <td>201510</td>\n",
       "      <td>0.784</td>\n",
       "      <td>1</td>\n",
       "      <td>1</td>\n",
       "      <td>0</td>\n",
       "      <td>0</td>\n",
       "      <td>0</td>\n",
       "      <td>0</td>\n",
       "      <td>1500.0</td>\n",
       "      <td>...</td>\n",
       "      <td>5.0</td>\n",
       "      <td>1.0</td>\n",
       "      <td>100.0</td>\n",
       "      <td>2015</td>\n",
       "      <td>0.2</td>\n",
       "      <td>0.12</td>\n",
       "      <td>1.829502e+13</td>\n",
       "      <td>57040.208214</td>\n",
       "      <td>2</td>\n",
       "      <td>1</td>\n",
       "    </tr>\n",
       "  </tbody>\n",
       "</table>\n",
       "<p>5 rows × 28 columns</p>\n",
       "</div>"
      ],
      "text/plain": [
       "        userid    date  weight  HaveCredit  HaveMortgage  HaveStudent  \\\n",
       "7004  70051996  201510   1.048           1             0            0   \n",
       "7005  70052003  201510   0.491           1             1            1   \n",
       "7006  70052014  201510   0.577           1             0            0   \n",
       "7008  70052043  201510   1.087           1             0            1   \n",
       "7010  70052292  201510   0.784           1             1            0   \n",
       "\n",
       "      HaveHomeBasedLoan  HaveAuto  Other  CreditBal  ...  CreditScore  \\\n",
       "7004                  0         0      0        0.0  ...          4.0   \n",
       "7005                  0         1      0     2000.0  ...          5.0   \n",
       "7006                  1         0      0        0.0  ...          4.0   \n",
       "7008                  0         1      0      311.0  ...          1.0   \n",
       "7010                  0         0      0     1500.0  ...          5.0   \n",
       "\n",
       "      LastCheckCredit  LikAble2k  year  inflat_rate  interest_rate  \\\n",
       "7004              5.0      100.0  2015          0.2           0.12   \n",
       "7005              4.0      100.0  2015          0.2           0.12   \n",
       "7006              5.0      100.0  2015          0.2           0.12   \n",
       "7008              3.0       10.0  2015          0.2           0.12   \n",
       "7010              1.0      100.0  2015          0.2           0.12   \n",
       "\n",
       "               gdp       gdp_cap  loan_count  loan_count(w/outCredit)  \n",
       "7004  1.829502e+13  57040.208214           1                        0  \n",
       "7005  1.829502e+13  57040.208214           4                        3  \n",
       "7006  1.829502e+13  57040.208214           2                        1  \n",
       "7008  1.829502e+13  57040.208214           3                        2  \n",
       "7010  1.829502e+13  57040.208214           2                        1  \n",
       "\n",
       "[5 rows x 28 columns]"
      ]
     },
     "execution_count": 61,
     "metadata": {},
     "output_type": "execute_result"
    }
   ],
   "source": [
    "df_final_cleaned.head()"
   ]
  },
  {
   "cell_type": "code",
   "execution_count": 51,
   "metadata": {},
   "outputs": [
    {
     "data": {
      "text/plain": [
       "Text(0.5, 1.0, 'Interest Rate')"
      ]
     },
     "execution_count": 51,
     "metadata": {},
     "output_type": "execute_result"
    },
    {
     "data": {
      "image/png": "[encoded data removed]",
      "text/plain": [
       "<Figure size 640x480 with 1 Axes>"
      ]
     },
     "metadata": {},
     "output_type": "display_data"
    }
   ],
   "source": [
    "plt.plot(df_final_cleaned[\"date\"], df_final_cleaned[\"interest_rate\"], \".-\")\n",
    "plt.xticks(rotation=45)\n",
    "plt.xlabel(\"Date (Year Month)\")\n",
    "plt.ylabel(\"Percentage\")\n",
    "plt.title(\"Interest Rate\")"
   ]
  },
  {
   "cell_type": "code",
   "execution_count": 43,
   "metadata": {},
   "outputs": [
    {
     "data": {
      "text/plain": [
       "Text(0.5, 1.0, 'Inflation Rate')"
      ]
     },
     "execution_count": 43,
     "metadata": {},
     "output_type": "execute_result"
    },
    {
     "data": {
      "image/png": "[encoded data removed]",
      "text/plain": [
       "<Figure size 640x480 with 1 Axes>"
      ]
     },
     "metadata": {},
     "output_type": "display_data"
    }
   ],
   "source": [
    "plt.plot(df_final_cleaned[\"date\"], df_final_cleaned[\"inflat_rate\"], \".-\")\n",
    "plt.xticks(rotation=45)\n",
    "plt.xlabel(\"Date (Year Month)\")\n",
    "plt.ylabel(\"Percentage\")\n",
    "plt.title(\"Inflation Rate\")"
   ]
  },
  {
   "cell_type": "code",
   "execution_count": 56,
   "metadata": {},
   "outputs": [],
   "source": [
    "groupbydate = df_final_cleaned.groupby(\"date\")[\"Late90Days\"].count()\n",
    "groupbydate.name = \"CntLatePayment\"\n",
    "groupbydate = groupbydate.reset_index()"
   ]
  },
  {
   "cell_type": "code",
   "execution_count": 57,
   "metadata": {},
   "outputs": [
    {
     "data": {
      "text/plain": [
       "Text(0.5, 1.0, 'Late Payments Over Time')"
      ]
     },
     "execution_count": 57,
     "metadata": {},
     "output_type": "execute_result"
    },
    {
     "data": {
      "image/png": "[encoded data removed]",
      "text/plain": [
       "<Figure size 640x480 with 1 Axes>"
      ]
     },
     "metadata": {},
     "output_type": "display_data"
    }
   ],
   "source": [
    "plt.plot(groupbydate[\"date\"], groupbydate[\"CntLatePayment\"], \".-\")\n",
    "plt.xticks(rotation=45)\n",
    "plt.xlabel(\"Date (Year Month)\")\n",
    "plt.ylabel(\"Count of Late Payments By 90 Days\")\n",
    "plt.title(\"Late Payments Over Time\")"
   ]
  },
  {
   "cell_type": "code",
   "execution_count": 38,
   "metadata": {},
   "outputs": [
    {
     "name": "stderr",
     "output_type": "stream",
     "text": [
      "/var/folders/zg/ls8bd3c56117c99w5bccvcjw0000gn/T/ipykernel_17484/4054372187.py:1: SettingWithCopyWarning: \n",
      "A value is trying to be set on a copy of a slice from a DataFrame.\n",
      "Try using .loc[row_indexer,col_indexer] = value instead\n",
      "\n",
      "See the caveats in the documentation: https://pandas.pydata.org/pandas-docs/stable/user_guide/indexing.html#returning-a-view-versus-a-copy\n",
      "  df_final_cleaned[\"loan_count\"] = (df_final_cleaned[\"HaveCredit\"] + df_final_cleaned[\"HaveMortgage\"] + df_final_cleaned[\"HaveStudent\"] +\n"
     ]
    },
    {
     "data": {
      "text/plain": [
       "Text(0, 0.5, 'Frequency')"
      ]
     },
     "execution_count": 38,
     "metadata": {},
     "output_type": "execute_result"
    },
    {
     "data": {
      "image/png": "[encoded data removed]",
      "text/plain": [
       "<Figure size 640x480 with 1 Axes>"
      ]
     },
     "metadata": {},
     "output_type": "display_data"
    }
   ],
   "source": [
    "df_final_cleaned[\"loan_count\"] = (df_final_cleaned[\"HaveCredit\"] + df_final_cleaned[\"HaveMortgage\"] + df_final_cleaned[\"HaveStudent\"] + \n",
    "                          df_final_cleaned[\"HaveHomeBasedLoan\"] + df_final_cleaned[\"HaveAuto\"] + df_final_cleaned[\"Other\"])\n",
    "\n",
    "plt.hist(df_final_cleaned[\"loan_count\"], bins = 7);\n",
    "plt.xlabel(\"Number of Loans\")\n",
    "plt.ylabel(\"Frequency\")"
   ]
  },
  {
   "cell_type": "code",
   "execution_count": 121,
   "metadata": {},
   "outputs": [
    {
     "data": {
      "text/plain": [
       "Late90Days\n",
       "0.0    18301\n",
       "1.0      496\n",
       "Name: count, dtype: int64"
      ]
     },
     "execution_count": 121,
     "metadata": {},
     "output_type": "execute_result"
    }
   ],
   "source": [
    "df_final_cleaned[\"Late90Days\"].value_counts()"
   ]
  },
  {
   "cell_type": "code",
   "execution_count": 58,
   "metadata": {},
   "outputs": [
    {
     "name": "stderr",
     "output_type": "stream",
     "text": [
      "/var/folders/zg/ls8bd3c56117c99w5bccvcjw0000gn/T/ipykernel_17484/1916653963.py:1: SettingWithCopyWarning: \n",
      "A value is trying to be set on a copy of a slice from a DataFrame.\n",
      "Try using .loc[row_indexer,col_indexer] = value instead\n",
      "\n",
      "See the caveats in the documentation: https://pandas.pydata.org/pandas-docs/stable/user_guide/indexing.html#returning-a-view-versus-a-copy\n",
      "  df_final_cleaned[\"loan_count(w/outCredit)\"] = (df_final_cleaned[\"HaveMortgage\"] + df_final_cleaned[\"HaveStudent\"] +\n"
     ]
    }
   ],
   "source": [
    "df_final_cleaned[\"loan_count(w/outCredit)\"] = (df_final_cleaned[\"HaveMortgage\"] + df_final_cleaned[\"HaveStudent\"] + \n",
    "                          df_final_cleaned[\"HaveHomeBasedLoan\"] + df_final_cleaned[\"HaveAuto\"] + df_final_cleaned[\"Other\"])"
   ]
  },
  {
   "cell_type": "code",
   "execution_count": 23,
   "metadata": {},
   "outputs": [
    {
     "data": {
      "text/plain": [
       "count    18797.000000\n",
       "mean         2.473373\n",
       "std          1.103495\n",
       "min          1.000000\n",
       "25%          2.000000\n",
       "50%          2.000000\n",
       "75%          3.000000\n",
       "max          6.000000\n",
       "Name: loan_count, dtype: float64"
      ]
     },
     "execution_count": 23,
     "metadata": {},
     "output_type": "execute_result"
    }
   ],
   "source": [
    "df_final_cleaned[\"loan_count\"].describe()"
   ]
  },
  {
   "cell_type": "code",
   "execution_count": 67,
   "metadata": {},
   "outputs": [
    {
     "data": {
      "image/png": "[encoded data removed]",
      "text/plain": [
       "<Figure size 600x200 with 1 Axes>"
      ]
     },
     "metadata": {},
     "output_type": "display_data"
    }
   ],
   "source": [
    "plt.figure(figsize=(6, 2))\n",
    "plt.boxplot(df_final_cleaned[\"loan_count(w/outCredit)\"], vert=False)\n",
    "plt.yticks([1], [\"Loan Count (w/out Credit)\"])\n",
    "plt.xlabel(\"Count\")\n",
    "plt.title(\"Distribution of Loan Count (w/out Credit Card)\")\n",
    "plt.tight_layout()\n"
   ]
  },
  {
   "cell_type": "code",
   "execution_count": 27,
   "metadata": {},
   "outputs": [
    {
     "data": {
      "text/plain": [
       "Late30Days\n",
       "0.0    8103\n",
       "1.0     688\n",
       "Name: count, dtype: int64"
      ]
     },
     "execution_count": 27,
     "metadata": {},
     "output_type": "execute_result"
    }
   ],
   "source": [
    "high_num_loans = df_final_cleaned[(df_final_cleaned[\"loan_count\"]>=\n",
    "                                   df_final_cleaned[\"loan_count\"].quantile(0.8))]\n",
    "high_num_loans[\"Late30Days\"].value_counts()"
   ]
  },
  {
   "cell_type": "code",
   "execution_count": 28,
   "metadata": {},
   "outputs": [
    {
     "data": {
      "text/plain": [
       "Late90Days\n",
       "0.0    8506\n",
       "1.0     285\n",
       "Name: count, dtype: int64"
      ]
     },
     "execution_count": 28,
     "metadata": {},
     "output_type": "execute_result"
    }
   ],
   "source": [
    "high_num_loans[\"Late90Days\"].value_counts()"
   ]
  },
  {
   "cell_type": "code",
   "execution_count": 29,
   "metadata": {},
   "outputs": [
    {
     "data": {
      "text/plain": [
       "Late30Days\n",
       "0.0    3929\n",
       "1.0     104\n",
       "Name: count, dtype: int64"
      ]
     },
     "execution_count": 29,
     "metadata": {},
     "output_type": "execute_result"
    }
   ],
   "source": [
    "low_num_loans = df_final_cleaned[(df_final_cleaned[\"loan_count\"]<=df_final_cleaned[\"loan_count\"].quantile(0.2))]\n",
    "low_num_loans[\"Late30Days\"].value_counts()"
   ]
  },
  {
   "cell_type": "code",
   "execution_count": 30,
   "metadata": {},
   "outputs": [
    {
     "data": {
      "text/plain": [
       "Late90Days\n",
       "0.0    3983\n",
       "1.0      50\n",
       "Name: count, dtype: int64"
      ]
     },
     "execution_count": 30,
     "metadata": {},
     "output_type": "execute_result"
    }
   ],
   "source": [
    "low_num_loans[\"Late90Days\"].value_counts()"
   ]
  },
  {
   "cell_type": "code",
   "execution_count": 73,
   "metadata": {},
   "outputs": [
    {
     "data": {
      "image/png": "[encoded data removed]",
      "text/plain": [
       "<Figure size 600x300 with 2 Axes>"
      ]
     },
     "metadata": {},
     "output_type": "display_data"
    }
   ],
   "source": [
    "fig, axes = plt.subplots(1, 2, figsize=(6, 3))\n",
    "high_num_loans[\"Late90Days\"].value_counts().sort_index().plot(\n",
    "    kind='pie',\n",
    "    labels=[\"On-Time\", \"Late (90 Days)\"],\n",
    "    autopct='%1.1f%%',\n",
    "    startangle=90,\n",
    "    colors=[\"#66b3ff\", \"#ff9999\"],\n",
    "    ax=axes[0]\n",
    ")\n",
    "axes[0].set_ylabel(\"\")\n",
    "axes[0].set_title(\"Late90Days Breakdown \\n (Top 20% Loan Count)\")\n",
    "\n",
    "# Low loan count pie chart\n",
    "low_num_loans[\"Late90Days\"].value_counts().sort_index().plot(\n",
    "    kind='pie',\n",
    "    labels=[\"On-Time\", \"Late (90 Days)\"],\n",
    "    autopct='%1.1f%%',\n",
    "    startangle=90,\n",
    "    colors=[\"#66b3ff\", \"#ff9999\"],\n",
    "    ax=axes[1]\n",
    ")\n",
    "axes[1].set_ylabel(\"\")\n",
    "axes[1].set_title(\"Late90Days Breakdown \\n (Lowest 20% Loan Count)\")\n",
    "\n",
    "plt.tight_layout()\n",
    "plt.show()"
   ]
  },
  {
   "cell_type": "code",
   "execution_count": 31,
   "metadata": {},
   "outputs": [
    {
     "data": {
      "text/plain": [
       "<matplotlib.collections.PathCollection at 0x1777168d0>"
      ]
     },
     "execution_count": 31,
     "metadata": {},
     "output_type": "execute_result"
    },
    {
     "data": {
      "image/png": "[encoded data removed]",
      "text/plain": [
       "<Figure size 640x480 with 1 Axes>"
      ]
     },
     "metadata": {},
     "output_type": "display_data"
    }
   ],
   "source": [
    "plt.scatter(df_final_cleaned[\"inflat_rate\"], df_final_cleaned[\"Late90Days\"])"
   ]
  },
  {
   "cell_type": "code",
   "execution_count": 37,
   "metadata": {},
   "outputs": [
    {
     "data": {
      "text/html": [
       "<div>\n",
       "<style scoped>\n",
       "    .dataframe tbody tr th:only-of-type {\n",
       "        vertical-align: middle;\n",
       "    }\n",
       "\n",
       "    .dataframe tbody tr th {\n",
       "        vertical-align: top;\n",
       "    }\n",
       "\n",
       "    .dataframe thead th {\n",
       "        text-align: right;\n",
       "    }\n",
       "</style>\n",
       "<table border=\"1\" class=\"dataframe\">\n",
       "  <thead>\n",
       "    <tr style=\"text-align: right;\">\n",
       "      <th>Late90Days</th>\n",
       "      <th>0.0</th>\n",
       "      <th>1.0</th>\n",
       "    </tr>\n",
       "    <tr>\n",
       "      <th>date</th>\n",
       "      <th></th>\n",
       "      <th></th>\n",
       "    </tr>\n",
       "  </thead>\n",
       "  <tbody>\n",
       "    <tr>\n",
       "      <th>201510</th>\n",
       "      <td>0.974497</td>\n",
       "      <td>0.025503</td>\n",
       "    </tr>\n",
       "    <tr>\n",
       "      <th>201602</th>\n",
       "      <td>0.970899</td>\n",
       "      <td>0.029101</td>\n",
       "    </tr>\n",
       "    <tr>\n",
       "      <th>201606</th>\n",
       "      <td>0.979268</td>\n",
       "      <td>0.020732</td>\n",
       "    </tr>\n",
       "    <tr>\n",
       "      <th>201610</th>\n",
       "      <td>0.966667</td>\n",
       "      <td>0.033333</td>\n",
       "    </tr>\n",
       "    <tr>\n",
       "      <th>201702</th>\n",
       "      <td>0.971119</td>\n",
       "      <td>0.028881</td>\n",
       "    </tr>\n",
       "    <tr>\n",
       "      <th>201706</th>\n",
       "      <td>0.967667</td>\n",
       "      <td>0.032333</td>\n",
       "    </tr>\n",
       "    <tr>\n",
       "      <th>201710</th>\n",
       "      <td>0.974742</td>\n",
       "      <td>0.025258</td>\n",
       "    </tr>\n",
       "    <tr>\n",
       "      <th>201802</th>\n",
       "      <td>0.970334</td>\n",
       "      <td>0.029666</td>\n",
       "    </tr>\n",
       "    <tr>\n",
       "      <th>201806</th>\n",
       "      <td>0.963942</td>\n",
       "      <td>0.036058</td>\n",
       "    </tr>\n",
       "    <tr>\n",
       "      <th>201810</th>\n",
       "      <td>0.961625</td>\n",
       "      <td>0.038375</td>\n",
       "    </tr>\n",
       "    <tr>\n",
       "      <th>201902</th>\n",
       "      <td>0.974625</td>\n",
       "      <td>0.025375</td>\n",
       "    </tr>\n",
       "    <tr>\n",
       "      <th>201906</th>\n",
       "      <td>0.971119</td>\n",
       "      <td>0.028881</td>\n",
       "    </tr>\n",
       "    <tr>\n",
       "      <th>201910</th>\n",
       "      <td>0.980998</td>\n",
       "      <td>0.019002</td>\n",
       "    </tr>\n",
       "    <tr>\n",
       "      <th>202006</th>\n",
       "      <td>0.988535</td>\n",
       "      <td>0.011465</td>\n",
       "    </tr>\n",
       "    <tr>\n",
       "      <th>202010</th>\n",
       "      <td>0.983092</td>\n",
       "      <td>0.016908</td>\n",
       "    </tr>\n",
       "    <tr>\n",
       "      <th>202102</th>\n",
       "      <td>0.982544</td>\n",
       "      <td>0.017456</td>\n",
       "    </tr>\n",
       "    <tr>\n",
       "      <th>202106</th>\n",
       "      <td>0.986063</td>\n",
       "      <td>0.013937</td>\n",
       "    </tr>\n",
       "    <tr>\n",
       "      <th>202110</th>\n",
       "      <td>0.975806</td>\n",
       "      <td>0.024194</td>\n",
       "    </tr>\n",
       "    <tr>\n",
       "      <th>202202</th>\n",
       "      <td>0.973006</td>\n",
       "      <td>0.026994</td>\n",
       "    </tr>\n",
       "    <tr>\n",
       "      <th>202210</th>\n",
       "      <td>0.966408</td>\n",
       "      <td>0.033592</td>\n",
       "    </tr>\n",
       "    <tr>\n",
       "      <th>202302</th>\n",
       "      <td>0.969072</td>\n",
       "      <td>0.030928</td>\n",
       "    </tr>\n",
       "    <tr>\n",
       "      <th>202306</th>\n",
       "      <td>0.975000</td>\n",
       "      <td>0.025000</td>\n",
       "    </tr>\n",
       "    <tr>\n",
       "      <th>202310</th>\n",
       "      <td>0.965847</td>\n",
       "      <td>0.034153</td>\n",
       "    </tr>\n",
       "  </tbody>\n",
       "</table>\n",
       "</div>"
      ],
      "text/plain": [
       "Late90Days       0.0       1.0\n",
       "date                          \n",
       "201510      0.974497  0.025503\n",
       "201602      0.970899  0.029101\n",
       "201606      0.979268  0.020732\n",
       "201610      0.966667  0.033333\n",
       "201702      0.971119  0.028881\n",
       "201706      0.967667  0.032333\n",
       "201710      0.974742  0.025258\n",
       "201802      0.970334  0.029666\n",
       "201806      0.963942  0.036058\n",
       "201810      0.961625  0.038375\n",
       "201902      0.974625  0.025375\n",
       "201906      0.971119  0.028881\n",
       "201910      0.980998  0.019002\n",
       "202006      0.988535  0.011465\n",
       "202010      0.983092  0.016908\n",
       "202102      0.982544  0.017456\n",
       "202106      0.986063  0.013937\n",
       "202110      0.975806  0.024194\n",
       "202202      0.973006  0.026994\n",
       "202210      0.966408  0.033592\n",
       "202302      0.969072  0.030928\n",
       "202306      0.975000  0.025000\n",
       "202310      0.965847  0.034153"
      ]
     },
     "execution_count": 37,
     "metadata": {},
     "output_type": "execute_result"
    }
   ],
   "source": [
    "table_normalized = pd.crosstab(\n",
    "    df_final_cleaned[\"date\"],\n",
    "    df_final_cleaned[\"Late90Days\"],\n",
    "    normalize='index'  # This gives row-wise (date-wise) percentages\n",
    ")\n",
    "table_normalized"
   ]
  },
  {
   "cell_type": "code",
   "execution_count": 77,
   "metadata": {},
   "outputs": [
    {
     "name": "stderr",
     "output_type": "stream",
     "text": [
      "/var/folders/zg/ls8bd3c56117c99w5bccvcjw0000gn/T/ipykernel_17484/2837294837.py:1: SettingWithCopyWarning: \n",
      "A value is trying to be set on a copy of a slice from a DataFrame.\n",
      "Try using .loc[row_indexer,col_indexer] = value instead\n",
      "\n",
      "See the caveats in the documentation: https://pandas.pydata.org/pandas-docs/stable/user_guide/indexing.html#returning-a-view-versus-a-copy\n",
      "  df_final_cleaned[\"TotalBal\"] = (df_final_cleaned[\"CreditBal\"] + df_final_cleaned[\"MortgageBal\"] + df_final_cleaned[\"StudentBal\"] +\n"
     ]
    },
    {
     "data": {
      "image/png": "[encoded data removed]",
      "text/plain": [
       "<Figure size 640x480 with 1 Axes>"
      ]
     },
     "metadata": {},
     "output_type": "display_data"
    }
   ],
   "source": [
    "df_final_cleaned[\"TotalBal\"] = (df_final_cleaned[\"CreditBal\"] + df_final_cleaned[\"MortgageBal\"] + df_final_cleaned[\"StudentBal\"] + \n",
    "                          df_final_cleaned[\"HomeBasedBal\"] + df_final_cleaned[\"AutoBal\"] + df_final_cleaned[\"OtherBal\"])\n",
    "plt.hist(df_final_cleaned[\"TotalBal\"], bins = 200);\n",
    "plt.show()"
   ]
  },
  {
   "cell_type": "code",
   "execution_count": 85,
   "metadata": {},
   "outputs": [
    {
     "data": {
      "image/png": "[encoded data removed]",
      "text/plain": [
       "<Figure size 600x400 with 1 Axes>"
      ]
     },
     "metadata": {},
     "output_type": "display_data"
    }
   ],
   "source": [
    "late = df_final_cleaned[df_final_cleaned[\"Late90Days\"] == True]\n",
    "not_late = df_final_cleaned[df_final_cleaned[\"Late90Days\"] == False]\n",
    "plt.figure(figsize=(6, 4))\n",
    "\n",
    "plt.boxplot([late[\"TotalBal\"], not_late[\"TotalBal\"]], vert=True, patch_artist=True)\n",
    "plt.xticks([1, 2], [\"Late90Days\", \"Not Late90Days\"])\n",
    "\n",
    "plt.ylabel(\"Total Balance\")\n",
    "plt.xlabel(\"Late90Days Status\")\n",
    "plt.title(\"Distribution of Total Balance for Late90Days vs Not Late90Days\")\n",
    "\n",
    "plt.tight_layout()\n",
    "plt.show()"
   ]
  },
  {
   "cell_type": "code",
   "execution_count": 89,
   "metadata": {},
   "outputs": [
    {
     "name": "stderr",
     "output_type": "stream",
     "text": [
      "/Users/yzhao/anaconda3/envs/info2950/lib/python3.11/site-packages/pandas/core/arraylike.py:396: RuntimeWarning: divide by zero encountered in log\n",
      "  result = getattr(ufunc, method)(*inputs, **kwargs)\n"
     ]
    },
    {
     "data": {
      "image/png": "[encoded data removed]",
      "text/plain": [
       "<Figure size 600x400 with 1 Axes>"
      ]
     },
     "metadata": {},
     "output_type": "display_data"
    }
   ],
   "source": [
    "late = df_final_cleaned[df_final_cleaned[\"Late90Days\"] == True]\n",
    "not_late = df_final_cleaned[df_final_cleaned[\"Late90Days\"] == False]\n",
    "plt.figure(figsize=(6, 4))\n",
    "\n",
    "plt.boxplot([np.log(late[\"TotalBal\"]), np.log(not_late[\"TotalBal\"])], vert=True, patch_artist=True)\n",
    "plt.xticks([1, 2], [\"Have 90+ Day Late Payment\", \"No 90+ Day Late Payment\"])\n",
    "\n",
    "plt.ylabel(\"Natural Log of Total Balance Across All Loans\")\n",
    "plt.xlabel(\"Late Payment Status\")\n",
    "plt.title(\"Distribution of Total Balance \\n People With and Without Late Payments\")\n",
    "\n",
    "plt.tight_layout()\n",
    "plt.show()"
   ]
  },
  {
   "cell_type": "code",
   "execution_count": 84,
   "metadata": {},
   "outputs": [
    {
     "data": {
      "text/html": [
       "<div>\n",
       "<style scoped>\n",
       "    .dataframe tbody tr th:only-of-type {\n",
       "        vertical-align: middle;\n",
       "    }\n",
       "\n",
       "    .dataframe tbody tr th {\n",
       "        vertical-align: top;\n",
       "    }\n",
       "\n",
       "    .dataframe thead th {\n",
       "        text-align: right;\n",
       "    }\n",
       "</style>\n",
       "<table border=\"1\" class=\"dataframe\">\n",
       "  <thead>\n",
       "    <tr style=\"text-align: right;\">\n",
       "      <th></th>\n",
       "      <th>CreditBal</th>\n",
       "      <th>MortgageBal</th>\n",
       "      <th>StudentBal</th>\n",
       "      <th>HomeBasedBal</th>\n",
       "      <th>AutoBal</th>\n",
       "      <th>OtherBal</th>\n",
       "      <th>Late30Days</th>\n",
       "      <th>Late90Days</th>\n",
       "    </tr>\n",
       "  </thead>\n",
       "  <tbody>\n",
       "    <tr>\n",
       "      <th>CreditBal</th>\n",
       "      <td>1.000000</td>\n",
       "      <td>0.111665</td>\n",
       "      <td>0.004408</td>\n",
       "      <td>0.019391</td>\n",
       "      <td>0.450523</td>\n",
       "      <td>0.025393</td>\n",
       "      <td>0.016354</td>\n",
       "      <td>0.009682</td>\n",
       "    </tr>\n",
       "    <tr>\n",
       "      <th>MortgageBal</th>\n",
       "      <td>0.111665</td>\n",
       "      <td>1.000000</td>\n",
       "      <td>0.064296</td>\n",
       "      <td>0.031566</td>\n",
       "      <td>0.139444</td>\n",
       "      <td>0.003831</td>\n",
       "      <td>-0.035410</td>\n",
       "      <td>-0.024075</td>\n",
       "    </tr>\n",
       "    <tr>\n",
       "      <th>StudentBal</th>\n",
       "      <td>0.004408</td>\n",
       "      <td>0.064296</td>\n",
       "      <td>1.000000</td>\n",
       "      <td>-0.004169</td>\n",
       "      <td>0.596848</td>\n",
       "      <td>0.002350</td>\n",
       "      <td>0.021859</td>\n",
       "      <td>0.018978</td>\n",
       "    </tr>\n",
       "    <tr>\n",
       "      <th>HomeBasedBal</th>\n",
       "      <td>0.019391</td>\n",
       "      <td>0.031566</td>\n",
       "      <td>-0.004169</td>\n",
       "      <td>1.000000</td>\n",
       "      <td>0.043090</td>\n",
       "      <td>-0.000250</td>\n",
       "      <td>-0.004321</td>\n",
       "      <td>-0.010626</td>\n",
       "    </tr>\n",
       "    <tr>\n",
       "      <th>AutoBal</th>\n",
       "      <td>0.450523</td>\n",
       "      <td>0.139444</td>\n",
       "      <td>0.596848</td>\n",
       "      <td>0.043090</td>\n",
       "      <td>1.000000</td>\n",
       "      <td>0.000258</td>\n",
       "      <td>0.017104</td>\n",
       "      <td>0.004353</td>\n",
       "    </tr>\n",
       "    <tr>\n",
       "      <th>OtherBal</th>\n",
       "      <td>0.025393</td>\n",
       "      <td>0.003831</td>\n",
       "      <td>0.002350</td>\n",
       "      <td>-0.000250</td>\n",
       "      <td>0.000258</td>\n",
       "      <td>1.000000</td>\n",
       "      <td>0.015415</td>\n",
       "      <td>0.000028</td>\n",
       "    </tr>\n",
       "    <tr>\n",
       "      <th>Late30Days</th>\n",
       "      <td>0.016354</td>\n",
       "      <td>-0.035410</td>\n",
       "      <td>0.021859</td>\n",
       "      <td>-0.004321</td>\n",
       "      <td>0.017104</td>\n",
       "      <td>0.015415</td>\n",
       "      <td>1.000000</td>\n",
       "      <td>0.650335</td>\n",
       "    </tr>\n",
       "    <tr>\n",
       "      <th>Late90Days</th>\n",
       "      <td>0.009682</td>\n",
       "      <td>-0.024075</td>\n",
       "      <td>0.018978</td>\n",
       "      <td>-0.010626</td>\n",
       "      <td>0.004353</td>\n",
       "      <td>0.000028</td>\n",
       "      <td>0.650335</td>\n",
       "      <td>1.000000</td>\n",
       "    </tr>\n",
       "  </tbody>\n",
       "</table>\n",
       "</div>"
      ],
      "text/plain": [
       "              CreditBal  MortgageBal  StudentBal  HomeBasedBal   AutoBal  \\\n",
       "CreditBal      1.000000     0.111665    0.004408      0.019391  0.450523   \n",
       "MortgageBal    0.111665     1.000000    0.064296      0.031566  0.139444   \n",
       "StudentBal     0.004408     0.064296    1.000000     -0.004169  0.596848   \n",
       "HomeBasedBal   0.019391     0.031566   -0.004169      1.000000  0.043090   \n",
       "AutoBal        0.450523     0.139444    0.596848      0.043090  1.000000   \n",
       "OtherBal       0.025393     0.003831    0.002350     -0.000250  0.000258   \n",
       "Late30Days     0.016354    -0.035410    0.021859     -0.004321  0.017104   \n",
       "Late90Days     0.009682    -0.024075    0.018978     -0.010626  0.004353   \n",
       "\n",
       "              OtherBal  Late30Days  Late90Days  \n",
       "CreditBal     0.025393    0.016354    0.009682  \n",
       "MortgageBal   0.003831   -0.035410   -0.024075  \n",
       "StudentBal    0.002350    0.021859    0.018978  \n",
       "HomeBasedBal -0.000250   -0.004321   -0.010626  \n",
       "AutoBal       0.000258    0.017104    0.004353  \n",
       "OtherBal      1.000000    0.015415    0.000028  \n",
       "Late30Days    0.015415    1.000000    0.650335  \n",
       "Late90Days    0.000028    0.650335    1.000000  "
      ]
     },
     "execution_count": 84,
     "metadata": {},
     "output_type": "execute_result"
    }
   ],
   "source": [
    "df_final_cleaned[[\"CreditBal\", \"MortgageBal\", \n",
    "                   \"StudentBal\", \"HomeBasedBal\", \"AutoBal\", \"OtherBal\",\n",
    "                   \"Late30Days\", \"Late90Days\"]].corr()"
   ]
  },
  {
   "cell_type": "code",
   "execution_count": 97,
   "metadata": {},
   "outputs": [
    {
     "data": {
      "text/plain": [
       "Index(['userid', 'date', 'weight', 'HaveCredit', 'HaveMortgage', 'HaveStudent',\n",
       "       'HaveHomeBasedLoan', 'HaveAuto', 'Other', 'CreditBal', 'MortgageBal',\n",
       "       'StudentBal', 'HomeBasedBal', 'AutoBal', 'OtherBal', 'MaxedCredit',\n",
       "       'Late30Days', 'Late90Days', 'CreditScore', 'LastCheckCredit',\n",
       "       'LikAble2k', 'year', 'inflat_rate', 'interest_rate', 'gdp', 'gdp_cap',\n",
       "       'loan_count', 'loan_count(w/outCredit)', 'TotalBal', 'CreditScore_2.0',\n",
       "       'CreditScore_3.0', 'CreditScore_4.0', 'CreditScore_5.0',\n",
       "       'CreditScore_6.0', 'LastCheckCredit_2.0', 'LastCheckCredit_3.0',\n",
       "       'LastCheckCredit_4.0', 'LastCheckCredit_5.0', 'LastCheckCredit_6.0'],\n",
       "      dtype='object')"
      ]
     },
     "execution_count": 97,
     "metadata": {},
     "output_type": "execute_result"
    }
   ],
   "source": [
    "credit_score = pd.get_dummies(df_final_cleaned[\"CreditScore\"], \n",
    "                              prefix=\"CreditScore\", \n",
    "                              drop_first=True)\n",
    "last_checked = pd.get_dummies(df_final_cleaned[\"LastCheckCredit\"], \n",
    "                              prefix=\"LastCheckCredit\",\n",
    "                              drop_first=True)\n",
    "X_merged = pd.concat([df_final_cleaned, credit_score, last_checked], axis =1)\n",
    "X_merged.columns"
   ]
  },
  {
   "cell_type": "code",
   "execution_count": 113,
   "metadata": {},
   "outputs": [
    {
     "name": "stdout",
     "output_type": "stream",
     "text": [
      "Warning: Maximum number of iterations has been exceeded.\n",
      "         Current function value: 0.038385\n",
      "         Iterations: 35\n"
     ]
    },
    {
     "name": "stderr",
     "output_type": "stream",
     "text": [
      "/Users/yzhao/anaconda3/envs/info2950/lib/python3.11/site-packages/statsmodels/base/model.py:607: ConvergenceWarning: Maximum Likelihood optimization failed to converge. Check mle_retvals\n",
      "  warnings.warn(\"Maximum Likelihood optimization failed to \"\n"
     ]
    },
    {
     "data": {
      "text/html": [
       "<table class=\"simpletable\">\n",
       "<caption>Logit Regression Results</caption>\n",
       "<tr>\n",
       "  <th>Dep. Variable:</th>      <td>Late90Days</td>    <th>  No. Observations:  </th>  <td> 13157</td> \n",
       "</tr>\n",
       "<tr>\n",
       "  <th>Model:</th>                 <td>Logit</td>      <th>  Df Residuals:      </th>  <td> 13145</td> \n",
       "</tr>\n",
       "<tr>\n",
       "  <th>Method:</th>                 <td>MLE</td>       <th>  Df Model:          </th>  <td>    11</td> \n",
       "</tr>\n",
       "<tr>\n",
       "  <th>Date:</th>            <td>Tue, 29 Apr 2025</td> <th>  Pseudo R-squ.:     </th>  <td>0.6851</td> \n",
       "</tr>\n",
       "<tr>\n",
       "  <th>Time:</th>                <td>23:37:19</td>     <th>  Log-Likelihood:    </th> <td> -505.03</td>\n",
       "</tr>\n",
       "<tr>\n",
       "  <th>converged:</th>             <td>False</td>      <th>  LL-Null:           </th> <td> -1603.9</td>\n",
       "</tr>\n",
       "<tr>\n",
       "  <th>Covariance Type:</th>     <td>nonrobust</td>    <th>  LLR p-value:       </th>  <td> 0.000</td> \n",
       "</tr>\n",
       "</table>\n",
       "<table class=\"simpletable\">\n",
       "<tr>\n",
       "        <td></td>           <th>coef</th>     <th>std err</th>      <th>z</th>      <th>P>|z|</th>  <th>[0.025</th>    <th>0.975]</th>  \n",
       "</tr>\n",
       "<tr>\n",
       "  <th>const</th>         <td>  -93.6510</td> <td> 5.09e+04</td> <td>   -0.002</td> <td> 0.999</td> <td>-9.99e+04</td> <td> 9.97e+04</td>\n",
       "</tr>\n",
       "<tr>\n",
       "  <th>MortgageBal</th>   <td> 1.148e-06</td> <td> 1.45e-06</td> <td>    0.794</td> <td> 0.427</td> <td>-1.69e-06</td> <td> 3.98e-06</td>\n",
       "</tr>\n",
       "<tr>\n",
       "  <th>StudentBal</th>    <td> 5.933e-06</td> <td> 2.29e-06</td> <td>    2.586</td> <td> 0.010</td> <td> 1.44e-06</td> <td> 1.04e-05</td>\n",
       "</tr>\n",
       "<tr>\n",
       "  <th>MaxedCredit</th>   <td>   -0.2099</td> <td>    0.164</td> <td>   -1.279</td> <td> 0.201</td> <td>   -0.532</td> <td>    0.112</td>\n",
       "</tr>\n",
       "<tr>\n",
       "  <th>Late30Days</th>    <td>   92.8952</td> <td> 5.09e+04</td> <td>    0.002</td> <td> 0.999</td> <td>-9.97e+04</td> <td> 9.99e+04</td>\n",
       "</tr>\n",
       "<tr>\n",
       "  <th>LikAble2k</th>     <td>   -0.0130</td> <td>    0.002</td> <td>   -5.424</td> <td> 0.000</td> <td>   -0.018</td> <td>   -0.008</td>\n",
       "</tr>\n",
       "<tr>\n",
       "  <th>inflat_rate</th>   <td>    0.0969</td> <td>    0.062</td> <td>    1.563</td> <td> 0.118</td> <td>   -0.025</td> <td>    0.218</td>\n",
       "</tr>\n",
       "<tr>\n",
       "  <th>interest_rate</th> <td>    0.1134</td> <td>    0.084</td> <td>    1.343</td> <td> 0.179</td> <td>   -0.052</td> <td>    0.279</td>\n",
       "</tr>\n",
       "<tr>\n",
       "  <th>gdp</th>           <td>-1.011e-12</td> <td> 1.18e-12</td> <td>   -0.857</td> <td> 0.391</td> <td>-3.32e-12</td> <td>  1.3e-12</td>\n",
       "</tr>\n",
       "<tr>\n",
       "  <th>gdp_cap</th>       <td>    0.0003</td> <td>    0.000</td> <td>    0.792</td> <td> 0.428</td> <td>   -0.001</td> <td>    0.001</td>\n",
       "</tr>\n",
       "<tr>\n",
       "  <th>loan_count</th>    <td>   -0.1365</td> <td>    0.076</td> <td>   -1.806</td> <td> 0.071</td> <td>   -0.285</td> <td>    0.012</td>\n",
       "</tr>\n",
       "<tr>\n",
       "  <th>TotalBal</th>      <td>-9.594e-07</td> <td> 1.28e-06</td> <td>   -0.751</td> <td> 0.452</td> <td>-3.46e-06</td> <td> 1.54e-06</td>\n",
       "</tr>\n",
       "</table><br/><br/>Possibly complete quasi-separation: A fraction 0.94 of observations can be<br/>perfectly predicted. This might indicate that there is complete<br/>quasi-separation. In this case some parameters will not be identified."
      ],
      "text/latex": [
       "\\begin{center}\n",
       "\\begin{tabular}{lclc}\n",
       "\\toprule\n",
       "\\textbf{Dep. Variable:}   &    Late90Days    & \\textbf{  No. Observations:  } &    13157    \\\\\n",
       "\\textbf{Model:}           &      Logit       & \\textbf{  Df Residuals:      } &    13145    \\\\\n",
       "\\textbf{Method:}          &       MLE        & \\textbf{  Df Model:          } &       11    \\\\\n",
       "\\textbf{Date:}            & Tue, 29 Apr 2025 & \\textbf{  Pseudo R-squ.:     } &   0.6851    \\\\\n",
       "\\textbf{Time:}            &     23:37:19     & \\textbf{  Log-Likelihood:    } &   -505.03   \\\\\n",
       "\\textbf{converged:}       &      False       & \\textbf{  LL-Null:           } &   -1603.9   \\\\\n",
       "\\textbf{Covariance Type:} &    nonrobust     & \\textbf{  LLR p-value:       } &    0.000    \\\\\n",
       "\\bottomrule\n",
       "\\end{tabular}\n",
       "\\begin{tabular}{lcccccc}\n",
       "                        & \\textbf{coef} & \\textbf{std err} & \\textbf{z} & \\textbf{P$> |$z$|$} & \\textbf{[0.025} & \\textbf{0.975]}  \\\\\n",
       "\\midrule\n",
       "\\textbf{const}          &     -93.6510  &     5.09e+04     &    -0.002  &         0.999        &    -9.99e+04    &     9.97e+04     \\\\\n",
       "\\textbf{MortgageBal}    &    1.148e-06  &     1.45e-06     &     0.794  &         0.427        &    -1.69e-06    &     3.98e-06     \\\\\n",
       "\\textbf{StudentBal}     &    5.933e-06  &     2.29e-06     &     2.586  &         0.010        &     1.44e-06    &     1.04e-05     \\\\\n",
       "\\textbf{MaxedCredit}    &      -0.2099  &        0.164     &    -1.279  &         0.201        &       -0.532    &        0.112     \\\\\n",
       "\\textbf{Late30Days}     &      92.8952  &     5.09e+04     &     0.002  &         0.999        &    -9.97e+04    &     9.99e+04     \\\\\n",
       "\\textbf{LikAble2k}      &      -0.0130  &        0.002     &    -5.424  &         0.000        &       -0.018    &       -0.008     \\\\\n",
       "\\textbf{inflat\\_rate}   &       0.0969  &        0.062     &     1.563  &         0.118        &       -0.025    &        0.218     \\\\\n",
       "\\textbf{interest\\_rate} &       0.1134  &        0.084     &     1.343  &         0.179        &       -0.052    &        0.279     \\\\\n",
       "\\textbf{gdp}            &   -1.011e-12  &     1.18e-12     &    -0.857  &         0.391        &    -3.32e-12    &      1.3e-12     \\\\\n",
       "\\textbf{gdp\\_cap}       &       0.0003  &        0.000     &     0.792  &         0.428        &       -0.001    &        0.001     \\\\\n",
       "\\textbf{loan\\_count}    &      -0.1365  &        0.076     &    -1.806  &         0.071        &       -0.285    &        0.012     \\\\\n",
       "\\textbf{TotalBal}       &   -9.594e-07  &     1.28e-06     &    -0.751  &         0.452        &    -3.46e-06    &     1.54e-06     \\\\\n",
       "\\bottomrule\n",
       "\\end{tabular}\n",
       "%\\caption{Logit Regression Results}\n",
       "\\end{center}\n",
       "\n",
       "Possibly complete quasi-separation: A fraction 0.94 of observations can be \\newline\n",
       " perfectly predicted. This might indicate that there is complete \\newline\n",
       " quasi-separation. In this case some parameters will not be identified."
      ],
      "text/plain": [
       "<class 'statsmodels.iolib.summary.Summary'>\n",
       "\"\"\"\n",
       "                           Logit Regression Results                           \n",
       "==============================================================================\n",
       "Dep. Variable:             Late90Days   No. Observations:                13157\n",
       "Model:                          Logit   Df Residuals:                    13145\n",
       "Method:                           MLE   Df Model:                           11\n",
       "Date:                Tue, 29 Apr 2025   Pseudo R-squ.:                  0.6851\n",
       "Time:                        23:37:19   Log-Likelihood:                -505.03\n",
       "converged:                      False   LL-Null:                       -1603.9\n",
       "Covariance Type:            nonrobust   LLR p-value:                     0.000\n",
       "=================================================================================\n",
       "                    coef    std err          z      P>|z|      [0.025      0.975]\n",
       "---------------------------------------------------------------------------------\n",
       "const           -93.6510   5.09e+04     -0.002      0.999   -9.99e+04    9.97e+04\n",
       "MortgageBal    1.148e-06   1.45e-06      0.794      0.427   -1.69e-06    3.98e-06\n",
       "StudentBal     5.933e-06   2.29e-06      2.586      0.010    1.44e-06    1.04e-05\n",
       "MaxedCredit      -0.2099      0.164     -1.279      0.201      -0.532       0.112\n",
       "Late30Days       92.8952   5.09e+04      0.002      0.999   -9.97e+04    9.99e+04\n",
       "LikAble2k        -0.0130      0.002     -5.424      0.000      -0.018      -0.008\n",
       "inflat_rate       0.0969      0.062      1.563      0.118      -0.025       0.218\n",
       "interest_rate     0.1134      0.084      1.343      0.179      -0.052       0.279\n",
       "gdp           -1.011e-12   1.18e-12     -0.857      0.391   -3.32e-12     1.3e-12\n",
       "gdp_cap           0.0003      0.000      0.792      0.428      -0.001       0.001\n",
       "loan_count       -0.1365      0.076     -1.806      0.071      -0.285       0.012\n",
       "TotalBal      -9.594e-07   1.28e-06     -0.751      0.452   -3.46e-06    1.54e-06\n",
       "=================================================================================\n",
       "\n",
       "Possibly complete quasi-separation: A fraction 0.94 of observations can be\n",
       "perfectly predicted. This might indicate that there is complete\n",
       "quasi-separation. In this case some parameters will not be identified.\n",
       "\"\"\""
      ]
     },
     "execution_count": 113,
     "metadata": {},
     "output_type": "execute_result"
    }
   ],
   "source": [
    "X = sm.add_constant(df_final_cleaned.drop(columns=[\"Late90Days\",\"CreditScore\",\n",
    "                                                   \"LastCheckCredit\",\"date\",\"year\",\n",
    "                                                   \"weight\", \"userid\",\"HaveCredit\",'HaveMortgage', \n",
    "                                                   'HaveStudent','HaveHomeBasedLoan', \n",
    "                                                   'CreditBal', 'HomeBasedBal', \n",
    "                                                   'AutoBal', 'OtherBal',\n",
    "                                                   'HaveAuto', 'Other',\n",
    "                                                   \"loan_count(w/outCredit)\"]))\n",
    "y = df_final_cleaned[\"Late90Days\"]\n",
    "\n",
    "X_train, X_test, y_train, y_test = train_test_split(X, y, test_size=0.3, stratify=y)\n",
    "\n",
    "logistic = sm.Logit(y_train, X_train).fit()\n",
    "logistic.summary()"
   ]
  },
  {
   "cell_type": "code",
   "execution_count": 114,
   "metadata": {},
   "outputs": [],
   "source": [
    "X_test = sm.add_constant(X_test)\n",
    "predictions_test = (logistic.predict(X_test) >= 0.5).astype(int)"
   ]
  },
  {
   "cell_type": "code",
   "execution_count": 118,
   "metadata": {},
   "outputs": [
    {
     "data": {
      "text/plain": [
       "array([[5420,   71],\n",
       "       [  87,   62]])"
      ]
     },
     "execution_count": 118,
     "metadata": {},
     "output_type": "execute_result"
    }
   ],
   "source": [
    "confusion_matrix(y_test, predictions_test)"
   ]
  },
  {
   "cell_type": "code",
   "execution_count": 120,
   "metadata": {},
   "outputs": [
    {
     "name": "stdout",
     "output_type": "stream",
     "text": [
      "0.46616541353383456\n",
      "0.4161073825503356\n"
     ]
    }
   ],
   "source": [
    "print(precision_score(y_test, predictions_test))\n",
    "print (recall_score(y_test, predictions_test))"
   ]
  }
 ],
 "metadata": {
  "kernelspec": {
   "display_name": "info2950",
   "language": "python",
   "name": "python3"
  },
  "language_info": {
   "codemirror_mode": {
    "name": "ipython",
    "version": 3
   },
   "file_extension": ".py",
   "mimetype": "text/x-python",
   "name": "python",
   "nbconvert_exporter": "python",
   "pygments_lexer": "ipython3",
   "version": "3.11.4"
  }
 },
 "nbformat": 4,
 "nbformat_minor": 2
}
